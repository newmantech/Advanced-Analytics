{
 "cells": [
  {
   "cell_type": "code",
   "execution_count": 1,
   "id": "afd731b4",
   "metadata": {},
   "outputs": [],
   "source": [
    "import pandas as pd\n",
    "import numpy as np\n",
    "import seaborn as sns\n",
    "import matplotlib\n",
    "import matplotlib.pyplot as plt\n",
    "import os\n",
    "import sklearn\n",
    "from sklearn.model_selection import train_test_split \n",
    "from sklearn.linear_model import LinearRegression\n",
    "from sklearn.metrics import mean_squared_error, r2_score"
   ]
  },
  {
   "cell_type": "code",
   "execution_count": 2,
   "id": "bdb63ec8",
   "metadata": {},
   "outputs": [],
   "source": [
    "# This option ensures that the graphs are displayed within the notebook without the need to \"call\" them specifically.\n",
    "\n",
    "%matplotlib inline"
   ]
  },
  {
   "cell_type": "code",
   "execution_count": 3,
   "id": "f8ea557f",
   "metadata": {},
   "outputs": [],
   "source": [
    "# Define path\n",
    "\n",
    "path = r'C:\\Users\\dbnew\\Achievement_6'"
   ]
  },
  {
   "cell_type": "code",
   "execution_count": 4,
   "id": "e717f890",
   "metadata": {},
   "outputs": [],
   "source": [
    "#Import data\n",
    "df = pd.read_pickle(os.path.join(path, 'Prepared_Data', 'air_qual_cleaned.pkl'))"
   ]
  },
  {
   "cell_type": "markdown",
   "id": "990195f7",
   "metadata": {},
   "source": [
    "##### Missing values"
   ]
  },
  {
   "cell_type": "code",
   "execution_count": 11,
   "id": "1c12bf54",
   "metadata": {},
   "outputs": [
    {
     "data": {
      "text/plain": [
       "WHO Region                                    0\n",
       "WHO Country Name                              0\n",
       "City or Locality                              0\n",
       "Measurement Year                              0\n",
       "PM2.5 (μg/m3)                             17143\n",
       "PM10 (μg/m3)                              11025\n",
       "NO2 (μg/m3)                                9933\n",
       "PM25 temporal coverage (%)                24856\n",
       "PM10 temporal coverage (%)                26757\n",
       "NO2 temporal coverage (%)                 12238\n",
       "Reference                                     0\n",
       "Number and type of monitoring stations    23480\n",
       "Version of the database                       0\n",
       "dtype: int64"
      ]
     },
     "execution_count": 11,
     "metadata": {},
     "output_type": "execute_result"
    }
   ],
   "source": [
    "# Check for missing values\n",
    "\n",
    "df.isnull().sum()"
   ]
  },
  {
   "cell_type": "markdown",
   "id": "16ebb7b7",
   "metadata": {},
   "source": [
    "For the variables we are going to explore, there are many missing values (about 1/3 of the data is missing), but as we learned in the previous exercise, most of the missing values appear to be in certain locations, as opposed to being spread evenly around the world. Therefore imputing values for locations where most of the data is missing might skew the results. We will remove the missing values so that we can implement our training model."
   ]
  },
  {
   "cell_type": "code",
   "execution_count": 24,
   "id": "43e1e0be",
   "metadata": {},
   "outputs": [],
   "source": [
    "df_cleaned=df[['PM2.5 (μg/m3)','PM10 (μg/m3)']]"
   ]
  },
  {
   "cell_type": "code",
   "execution_count": 28,
   "id": "467a2e2a",
   "metadata": {},
   "outputs": [
    {
     "name": "stderr",
     "output_type": "stream",
     "text": [
      "C:\\Users\\dbnew\\anaconda3\\lib\\site-packages\\pandas\\util\\_decorators.py:311: SettingWithCopyWarning: \n",
      "A value is trying to be set on a copy of a slice from a DataFrame\n",
      "\n",
      "See the caveats in the documentation: https://pandas.pydata.org/pandas-docs/stable/user_guide/indexing.html#returning-a-view-versus-a-copy\n",
      "  return func(*args, **kwargs)\n"
     ]
    }
   ],
   "source": [
    "df_cleaned.dropna(inplace=True)"
   ]
  },
  {
   "cell_type": "code",
   "execution_count": 29,
   "id": "0453bc47",
   "metadata": {},
   "outputs": [
    {
     "data": {
      "text/plain": [
       "PM2.5 (μg/m3)    0\n",
       "PM10 (μg/m3)     0\n",
       "dtype: int64"
      ]
     },
     "execution_count": 29,
     "metadata": {},
     "output_type": "execute_result"
    }
   ],
   "source": [
    "df_cleaned.isnull().sum()"
   ]
  },
  {
   "cell_type": "code",
   "execution_count": 30,
   "id": "1b487fec",
   "metadata": {},
   "outputs": [
    {
     "data": {
      "text/html": [
       "<div>\n",
       "<style scoped>\n",
       "    .dataframe tbody tr th:only-of-type {\n",
       "        vertical-align: middle;\n",
       "    }\n",
       "\n",
       "    .dataframe tbody tr th {\n",
       "        vertical-align: top;\n",
       "    }\n",
       "\n",
       "    .dataframe thead th {\n",
       "        text-align: right;\n",
       "    }\n",
       "</style>\n",
       "<table border=\"1\" class=\"dataframe\">\n",
       "  <thead>\n",
       "    <tr style=\"text-align: right;\">\n",
       "      <th></th>\n",
       "      <th>PM2.5 (μg/m3)</th>\n",
       "      <th>PM10 (μg/m3)</th>\n",
       "    </tr>\n",
       "  </thead>\n",
       "  <tbody>\n",
       "    <tr>\n",
       "      <th>0</th>\n",
       "      <td>12.63</td>\n",
       "      <td>29.04</td>\n",
       "    </tr>\n",
       "    <tr>\n",
       "      <th>1</th>\n",
       "      <td>18.91</td>\n",
       "      <td>37.40</td>\n",
       "    </tr>\n",
       "    <tr>\n",
       "      <th>2</th>\n",
       "      <td>14.86</td>\n",
       "      <td>36.34</td>\n",
       "    </tr>\n",
       "    <tr>\n",
       "      <th>3</th>\n",
       "      <td>35.47</td>\n",
       "      <td>54.22</td>\n",
       "    </tr>\n",
       "    <tr>\n",
       "      <th>4</th>\n",
       "      <td>23.39</td>\n",
       "      <td>130.19</td>\n",
       "    </tr>\n",
       "  </tbody>\n",
       "</table>\n",
       "</div>"
      ],
      "text/plain": [
       "   PM2.5 (μg/m3)  PM10 (μg/m3)\n",
       "0          12.63         29.04\n",
       "1          18.91         37.40\n",
       "2          14.86         36.34\n",
       "3          35.47         54.22\n",
       "4          23.39        130.19"
      ]
     },
     "execution_count": 30,
     "metadata": {},
     "output_type": "execute_result"
    }
   ],
   "source": [
    "df_cleaned.head()"
   ]
  },
  {
   "cell_type": "markdown",
   "id": "5d0e9df2",
   "metadata": {},
   "source": [
    "##### Extreme values checks"
   ]
  },
  {
   "cell_type": "code",
   "execution_count": 5,
   "id": "0b230f17",
   "metadata": {},
   "outputs": [
    {
     "data": {
      "text/plain": [
       "Index(['WHO Region', 'WHO Country Name', 'City or Locality',\n",
       "       'Measurement Year', 'PM2.5 (μg/m3)', 'PM10 (μg/m3)', 'NO2 (μg/m3)',\n",
       "       'PM25 temporal coverage (%)', 'PM10 temporal coverage (%)',\n",
       "       'NO2 temporal coverage (%)', 'Reference',\n",
       "       'Number and type of monitoring stations', 'Version of the database'],\n",
       "      dtype='object')"
      ]
     },
     "execution_count": 5,
     "metadata": {},
     "output_type": "execute_result"
    }
   ],
   "source": [
    "df.columns"
   ]
  },
  {
   "cell_type": "code",
   "execution_count": 6,
   "id": "bcd47dd7",
   "metadata": {},
   "outputs": [
    {
     "name": "stderr",
     "output_type": "stream",
     "text": [
      "C:\\Users\\dbnew\\anaconda3\\lib\\site-packages\\seaborn\\distributions.py:2619: FutureWarning: `distplot` is a deprecated function and will be removed in a future version. Please adapt your code to use either `displot` (a figure-level function with similar flexibility) or `histplot` (an axes-level function for histograms).\n",
      "  warnings.warn(msg, FutureWarning)\n"
     ]
    },
    {
     "data": {
      "text/plain": [
       "<AxesSubplot:xlabel='PM10 (μg/m3)', ylabel='Density'>"
      ]
     },
     "execution_count": 6,
     "metadata": {},
     "output_type": "execute_result"
    },
    {
     "data": {
      "image/png": "[encoded data removed]",
      "text/plain": [
       "<Figure size 432x288 with 1 Axes>"
      ]
     },
     "metadata": {
      "needs_background": "light"
     },
     "output_type": "display_data"
    }
   ],
   "source": [
    "sns.distplot(df['PM10 (μg/m3)'], bins=25) # Shows extreme values\n",
    "\n",
    "# Some of the outliers in the high values may need to be removed, but let's try without doing so first."
   ]
  },
  {
   "cell_type": "code",
   "execution_count": 7,
   "id": "0e8b9c9e",
   "metadata": {},
   "outputs": [
    {
     "data": {
      "text/plain": [
       "30.505043115701863"
      ]
     },
     "execution_count": 7,
     "metadata": {},
     "output_type": "execute_result"
    }
   ],
   "source": [
    "df['PM10 (μg/m3)'].mean() # Check the mean"
   ]
  },
  {
   "cell_type": "code",
   "execution_count": 8,
   "id": "2c71aeec",
   "metadata": {},
   "outputs": [
    {
     "data": {
      "text/plain": [
       "22.0"
      ]
     },
     "execution_count": 8,
     "metadata": {},
     "output_type": "execute_result"
    }
   ],
   "source": [
    "df['PM10 (μg/m3)'].median() # Check the median"
   ]
  },
  {
   "cell_type": "code",
   "execution_count": 9,
   "id": "39fece05",
   "metadata": {},
   "outputs": [
    {
     "data": {
      "text/plain": [
       "540.0"
      ]
     },
     "execution_count": 9,
     "metadata": {},
     "output_type": "execute_result"
    }
   ],
   "source": [
    "df['PM10 (μg/m3)'].max() # Check the max"
   ]
  },
  {
   "cell_type": "markdown",
   "id": "df633078",
   "metadata": {},
   "source": [
    "### 3. Data prep for regression analysis "
   ]
  },
  {
   "cell_type": "code",
   "execution_count": 13,
   "id": "f0223ab4",
   "metadata": {},
   "outputs": [
    {
     "data": {
      "image/png": "[encoded data removed]",
      "text/plain": [
       "<Figure size 432x288 with 1 Axes>"
      ]
     },
     "metadata": {
      "needs_background": "light"
     },
     "output_type": "display_data"
    }
   ],
   "source": [
    "# Create a scatterplot using matplotlib for another look at how the chosen variables plot against each other.\n",
    "\n",
    "df.plot(x = 'PM2.5 (μg/m3)', y='PM10 (μg/m3)',style='o') # The style option creates a scatterplot; without it, we only have lines.\n",
    "plt.title('PM2.5 vs PM10 concentration')  \n",
    "plt.xlabel('PM2.5 (μg/m3)')  \n",
    "plt.ylabel('PM10 (μg/m3)')  \n",
    "plt.show()"
   ]
  },
  {
   "cell_type": "code",
   "execution_count": 31,
   "id": "d2ea2744",
   "metadata": {},
   "outputs": [],
   "source": [
    "# Reshape the variables into NumPy arrays and put them into separate objects.\n",
    "\n",
    "X = df_cleaned['PM2.5 (μg/m3)'].values.reshape(-1,1)\n",
    "y = df_cleaned['PM10 (μg/m3)'].values.reshape(-1,1)"
   ]
  },
  {
   "cell_type": "code",
   "execution_count": 38,
   "id": "b4ba6b02",
   "metadata": {},
   "outputs": [
    {
     "data": {
      "text/plain": [
       "array([[12.63],\n",
       "       [18.91],\n",
       "       [14.86],\n",
       "       ...,\n",
       "       [34.49],\n",
       "       [25.25],\n",
       "       [42.56]])"
      ]
     },
     "execution_count": 38,
     "metadata": {},
     "output_type": "execute_result"
    }
   ],
   "source": [
    "X"
   ]
  },
  {
   "cell_type": "code",
   "execution_count": 37,
   "id": "4c68dd5b",
   "metadata": {},
   "outputs": [
    {
     "data": {
      "text/plain": [
       "array([[29.04],\n",
       "       [37.4 ],\n",
       "       [36.34],\n",
       "       ...,\n",
       "       [55.52],\n",
       "       [45.71],\n",
       "       [67.06]])"
      ]
     },
     "execution_count": 37,
     "metadata": {},
     "output_type": "execute_result"
    }
   ],
   "source": [
    "y"
   ]
  },
  {
   "cell_type": "code",
   "execution_count": 39,
   "id": "272d771b",
   "metadata": {},
   "outputs": [],
   "source": [
    "# Split data into a training set and a test set.\n",
    "\n",
    "X_train, X_test, y_train, y_test = train_test_split(X, y, test_size=0.3, random_state=0)"
   ]
  },
  {
   "cell_type": "markdown",
   "id": "215ce59c",
   "metadata": {},
   "source": [
    "### 4. Regression analysis"
   ]
  },
  {
   "cell_type": "code",
   "execution_count": 40,
   "id": "29ff6903",
   "metadata": {},
   "outputs": [],
   "source": [
    "# Create a regression object.\n",
    "\n",
    "regression = LinearRegression()  # This is the regression object, which will be fit onto the training set."
   ]
  },
  {
   "cell_type": "code",
   "execution_count": 41,
   "id": "7c94b386",
   "metadata": {},
   "outputs": [
    {
     "data": {
      "text/plain": [
       "LinearRegression()"
      ]
     },
     "execution_count": 41,
     "metadata": {},
     "output_type": "execute_result"
    }
   ],
   "source": [
    "# Fit the regression object onto the training set.\n",
    "\n",
    "regression.fit(X_train, y_train)"
   ]
  },
  {
   "cell_type": "code",
   "execution_count": 42,
   "id": "8f9435f8",
   "metadata": {},
   "outputs": [],
   "source": [
    "# Predict the values of y using X.\n",
    "\n",
    "y_predicted = regression.predict(X_test)"
   ]
  },
  {
   "cell_type": "code",
   "execution_count": 43,
   "id": "a52ce136",
   "metadata": {},
   "outputs": [
    {
     "data": {
      "image/png": "[encoded data removed]",
      "text/plain": [
       "<Figure size 432x288 with 1 Axes>"
      ]
     },
     "metadata": {
      "needs_background": "light"
     },
     "output_type": "display_data"
    }
   ],
   "source": [
    "# Create a plot that shows the regression line from the model on the test set.\n",
    "\n",
    "plot_test = plt\n",
    "plot_test.scatter(X_test, y_test, color='gray', s = 15)\n",
    "plot_test.plot(X_test, y_predicted, color='red', linewidth =3)\n",
    "plot_test.title('PM2.5 vs PM10 concentration (Test set)')\n",
    "plot_test.xlabel('PM2.5')\n",
    "plot_test.ylabel('PM10')\n",
    "plot_test.show()"
   ]
  },
  {
   "cell_type": "markdown",
   "id": "8f36d072",
   "metadata": {},
   "source": [
    "The regression line appears to fit fairly well, but it's not a perfectly linear relationship and there are many outliers. If the model worked, it would tell us that the PM10 concentrations are roughly double the PM2.5 concentrations."
   ]
  },
  {
   "cell_type": "code",
   "execution_count": 44,
   "id": "b71394ba",
   "metadata": {},
   "outputs": [],
   "source": [
    "# Create objects that contain the model summary statistics.\n",
    "\n",
    "rmse = mean_squared_error(y_test, y_predicted) # This is the mean squared error\n",
    "r2 = r2_score(y_test, y_predicted) # This is the R2 score. "
   ]
  },
  {
   "cell_type": "code",
   "execution_count": 45,
   "id": "f60cb0b8",
   "metadata": {},
   "outputs": [
    {
     "name": "stdout",
     "output_type": "stream",
     "text": [
      "Slope: [[1.91542255]]\n",
      "Mean squared error:  164.9762912927285\n",
      "R2 score:  0.7578046780085232\n"
     ]
    }
   ],
   "source": [
    "# Print the model summary statistics. This is where you evaluate the performance of the model.\n",
    "\n",
    "print('Slope:' ,regression.coef_)\n",
    "print('Mean squared error: ', rmse)\n",
    "print('R2 score: ', r2)"
   ]
  },
  {
   "cell_type": "code",
   "execution_count": 46,
   "id": "e55cd9a4",
   "metadata": {},
   "outputs": [
    {
     "data": {
      "text/html": [
       "<div>\n",
       "<style scoped>\n",
       "    .dataframe tbody tr th:only-of-type {\n",
       "        vertical-align: middle;\n",
       "    }\n",
       "\n",
       "    .dataframe tbody tr th {\n",
       "        vertical-align: top;\n",
       "    }\n",
       "\n",
       "    .dataframe thead th {\n",
       "        text-align: right;\n",
       "    }\n",
       "</style>\n",
       "<table border=\"1\" class=\"dataframe\">\n",
       "  <thead>\n",
       "    <tr style=\"text-align: right;\">\n",
       "      <th></th>\n",
       "      <th>Actual</th>\n",
       "      <th>Predicted</th>\n",
       "    </tr>\n",
       "  </thead>\n",
       "  <tbody>\n",
       "    <tr>\n",
       "      <th>0</th>\n",
       "      <td>28.93</td>\n",
       "      <td>49.344012</td>\n",
       "    </tr>\n",
       "    <tr>\n",
       "      <th>1</th>\n",
       "      <td>30.48</td>\n",
       "      <td>36.989536</td>\n",
       "    </tr>\n",
       "    <tr>\n",
       "      <th>2</th>\n",
       "      <td>53.11</td>\n",
       "      <td>67.827839</td>\n",
       "    </tr>\n",
       "    <tr>\n",
       "      <th>3</th>\n",
       "      <td>11.58</td>\n",
       "      <td>12.089043</td>\n",
       "    </tr>\n",
       "    <tr>\n",
       "      <th>4</th>\n",
       "      <td>23.33</td>\n",
       "      <td>25.822623</td>\n",
       "    </tr>\n",
       "    <tr>\n",
       "      <th>5</th>\n",
       "      <td>10.09</td>\n",
       "      <td>9.330835</td>\n",
       "    </tr>\n",
       "    <tr>\n",
       "      <th>6</th>\n",
       "      <td>23.80</td>\n",
       "      <td>19.003718</td>\n",
       "    </tr>\n",
       "    <tr>\n",
       "      <th>7</th>\n",
       "      <td>20.83</td>\n",
       "      <td>23.083568</td>\n",
       "    </tr>\n",
       "    <tr>\n",
       "      <th>8</th>\n",
       "      <td>15.17</td>\n",
       "      <td>17.720385</td>\n",
       "    </tr>\n",
       "    <tr>\n",
       "      <th>9</th>\n",
       "      <td>14.38</td>\n",
       "      <td>19.578345</td>\n",
       "    </tr>\n",
       "    <tr>\n",
       "      <th>10</th>\n",
       "      <td>17.54</td>\n",
       "      <td>22.451479</td>\n",
       "    </tr>\n",
       "    <tr>\n",
       "      <th>11</th>\n",
       "      <td>97.55</td>\n",
       "      <td>73.363410</td>\n",
       "    </tr>\n",
       "    <tr>\n",
       "      <th>12</th>\n",
       "      <td>85.00</td>\n",
       "      <td>81.025101</td>\n",
       "    </tr>\n",
       "    <tr>\n",
       "      <th>13</th>\n",
       "      <td>9.46</td>\n",
       "      <td>7.587800</td>\n",
       "    </tr>\n",
       "    <tr>\n",
       "      <th>14</th>\n",
       "      <td>36.67</td>\n",
       "      <td>13.697998</td>\n",
       "    </tr>\n",
       "    <tr>\n",
       "      <th>15</th>\n",
       "      <td>17.01</td>\n",
       "      <td>11.016406</td>\n",
       "    </tr>\n",
       "    <tr>\n",
       "      <th>16</th>\n",
       "      <td>17.25</td>\n",
       "      <td>19.923121</td>\n",
       "    </tr>\n",
       "    <tr>\n",
       "      <th>17</th>\n",
       "      <td>16.75</td>\n",
       "      <td>20.229589</td>\n",
       "    </tr>\n",
       "    <tr>\n",
       "      <th>18</th>\n",
       "      <td>21.02</td>\n",
       "      <td>18.314166</td>\n",
       "    </tr>\n",
       "    <tr>\n",
       "      <th>19</th>\n",
       "      <td>21.16</td>\n",
       "      <td>27.163419</td>\n",
       "    </tr>\n",
       "    <tr>\n",
       "      <th>20</th>\n",
       "      <td>15.00</td>\n",
       "      <td>8.239044</td>\n",
       "    </tr>\n",
       "    <tr>\n",
       "      <th>21</th>\n",
       "      <td>6.38</td>\n",
       "      <td>9.962924</td>\n",
       "    </tr>\n",
       "    <tr>\n",
       "      <th>22</th>\n",
       "      <td>69.50</td>\n",
       "      <td>45.589783</td>\n",
       "    </tr>\n",
       "    <tr>\n",
       "      <th>23</th>\n",
       "      <td>22.71</td>\n",
       "      <td>23.983817</td>\n",
       "    </tr>\n",
       "    <tr>\n",
       "      <th>24</th>\n",
       "      <td>11.00</td>\n",
       "      <td>11.686804</td>\n",
       "    </tr>\n",
       "    <tr>\n",
       "      <th>25</th>\n",
       "      <td>20.36</td>\n",
       "      <td>28.408443</td>\n",
       "    </tr>\n",
       "    <tr>\n",
       "      <th>26</th>\n",
       "      <td>13.69</td>\n",
       "      <td>15.824117</td>\n",
       "    </tr>\n",
       "    <tr>\n",
       "      <th>27</th>\n",
       "      <td>66.25</td>\n",
       "      <td>47.505206</td>\n",
       "    </tr>\n",
       "    <tr>\n",
       "      <th>28</th>\n",
       "      <td>16.74</td>\n",
       "      <td>12.970137</td>\n",
       "    </tr>\n",
       "    <tr>\n",
       "      <th>29</th>\n",
       "      <td>39.71</td>\n",
       "      <td>33.790781</td>\n",
       "    </tr>\n",
       "  </tbody>\n",
       "</table>\n",
       "</div>"
      ],
      "text/plain": [
       "    Actual  Predicted\n",
       "0    28.93  49.344012\n",
       "1    30.48  36.989536\n",
       "2    53.11  67.827839\n",
       "3    11.58  12.089043\n",
       "4    23.33  25.822623\n",
       "5    10.09   9.330835\n",
       "6    23.80  19.003718\n",
       "7    20.83  23.083568\n",
       "8    15.17  17.720385\n",
       "9    14.38  19.578345\n",
       "10   17.54  22.451479\n",
       "11   97.55  73.363410\n",
       "12   85.00  81.025101\n",
       "13    9.46   7.587800\n",
       "14   36.67  13.697998\n",
       "15   17.01  11.016406\n",
       "16   17.25  19.923121\n",
       "17   16.75  20.229589\n",
       "18   21.02  18.314166\n",
       "19   21.16  27.163419\n",
       "20   15.00   8.239044\n",
       "21    6.38   9.962924\n",
       "22   69.50  45.589783\n",
       "23   22.71  23.983817\n",
       "24   11.00  11.686804\n",
       "25   20.36  28.408443\n",
       "26   13.69  15.824117\n",
       "27   66.25  47.505206\n",
       "28   16.74  12.970137\n",
       "29   39.71  33.790781"
      ]
     },
     "execution_count": 46,
     "metadata": {},
     "output_type": "execute_result"
    }
   ],
   "source": [
    "# Create a dataframe comparing the actual and predicted values of y.\n",
    "\n",
    "data = pd.DataFrame({'Actual': y_test.flatten(), 'Predicted': y_predicted.flatten()})\n",
    "data.head(30)"
   ]
  },
  {
   "cell_type": "markdown",
   "id": "4ec46632",
   "metadata": {},
   "source": [
    "The mean squared error is high, meaning that this may not be an accurate model.  However, the R2 value is 0.75, meaning the model explains variance betweem the data points fairly well. The actual and predicted values are not that close together. The model might be improved by removing extreme values and outliers. The data are biased by collection in that there are many missing values. Countries that have fewer resources to measure pollution or that don't bother to report their figures to the WHO would be underrepresented."
   ]
  },
  {
   "cell_type": "code",
   "execution_count": null,
   "id": "99ec5bcd",
   "metadata": {},
   "outputs": [],
   "source": []
  }
 ],
 "metadata": {
  "kernelspec": {
   "display_name": "Python 3 (ipykernel)",
   "language": "python",
   "name": "python3"
  },
  "language_info": {
   "codemirror_mode": {
    "name": "ipython",
    "version": 3
   },
   "file_extension": ".py",
   "mimetype": "text/x-python",
   "name": "python",
   "nbconvert_exporter": "python",
   "pygments_lexer": "ipython3",
   "version": "3.9.7"
  }
 },
 "nbformat": 4,
 "nbformat_minor": 5
}
